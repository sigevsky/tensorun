{
 "cells": [
  {
   "cell_type": "code",
   "execution_count": 103,
   "metadata": {},
   "outputs": [
    {
     "name": "stdout",
     "output_type": "stream",
     "text": [
      "Requirement already satisfied: tensorflow in /opt/conda/lib/python3.7/site-packages (1.13.1)\n",
      "Requirement already satisfied: astor>=0.6.0 in /opt/conda/lib/python3.7/site-packages (from tensorflow) (0.8.0)\n",
      "Requirement already satisfied: grpcio>=1.8.6 in /opt/conda/lib/python3.7/site-packages (from tensorflow) (1.21.1)\n",
      "Requirement already satisfied: wheel>=0.26 in /opt/conda/lib/python3.7/site-packages (from tensorflow) (0.33.1)\n",
      "Requirement already satisfied: termcolor>=1.1.0 in /opt/conda/lib/python3.7/site-packages (from tensorflow) (1.1.0)\n",
      "Requirement already satisfied: keras-applications>=1.0.6 in /opt/conda/lib/python3.7/site-packages (from tensorflow) (1.0.7)\n",
      "Requirement already satisfied: protobuf>=3.6.1 in /opt/conda/lib/python3.7/site-packages (from tensorflow) (3.7.1)\n",
      "Requirement already satisfied: tensorflow-estimator<1.14.0rc0,>=1.13.0 in /opt/conda/lib/python3.7/site-packages (from tensorflow) (1.13.0)\n",
      "Requirement already satisfied: six>=1.10.0 in /opt/conda/lib/python3.7/site-packages (from tensorflow) (1.12.0)\n",
      "Requirement already satisfied: tensorboard<1.14.0,>=1.13.0 in /opt/conda/lib/python3.7/site-packages (from tensorflow) (1.13.1)\n",
      "Requirement already satisfied: absl-py>=0.1.6 in /opt/conda/lib/python3.7/site-packages (from tensorflow) (0.7.1)\n",
      "Requirement already satisfied: numpy>=1.13.3 in /opt/conda/lib/python3.7/site-packages (from tensorflow) (1.15.4)\n",
      "Requirement already satisfied: gast>=0.2.0 in /opt/conda/lib/python3.7/site-packages (from tensorflow) (0.2.2)\n",
      "Requirement already satisfied: keras-preprocessing>=1.0.5 in /opt/conda/lib/python3.7/site-packages (from tensorflow) (1.0.9)\n",
      "Requirement already satisfied: h5py in /opt/conda/lib/python3.7/site-packages (from keras-applications>=1.0.6->tensorflow) (2.9.0)\n",
      "Requirement already satisfied: setuptools in /opt/conda/lib/python3.7/site-packages (from protobuf>=3.6.1->tensorflow) (41.0.1)\n",
      "Requirement already satisfied: mock>=2.0.0 in /opt/conda/lib/python3.7/site-packages (from tensorflow-estimator<1.14.0rc0,>=1.13.0->tensorflow) (3.0.5)\n",
      "Requirement already satisfied: werkzeug>=0.11.15 in /opt/conda/lib/python3.7/site-packages (from tensorboard<1.14.0,>=1.13.0->tensorflow) (0.15.4)\n",
      "Requirement already satisfied: markdown>=2.6.8 in /opt/conda/lib/python3.7/site-packages (from tensorboard<1.14.0,>=1.13.0->tensorflow) (3.1.1)\n"
     ]
    }
   ],
   "source": [
    "!pip install tensorflow"
   ]
  },
  {
   "cell_type": "code",
   "execution_count": 104,
   "metadata": {},
   "outputs": [],
   "source": [
    "import tensorflow as tf\n",
    "import numpy as np\n",
    "import matplotlib.pyplot as plt\n",
    "import pandas as pd"
   ]
  },
  {
   "cell_type": "code",
   "execution_count": 105,
   "metadata": {},
   "outputs": [],
   "source": [
    "epoch = 15000\n",
    "batch_size = 62\n",
    "alpha = 0.01\n",
    "scale = 3.\n",
    "center = (1.5, 1.5)\n",
    "R = 1\n",
    "x_domain = np.linspace(0., scale, 100)\n",
    "\n",
    "input_d = 2\n",
    "output_d = 1\n",
    "hidden_d = 3"
   ]
  },
  {
   "cell_type": "code",
   "execution_count": 106,
   "metadata": {},
   "outputs": [],
   "source": [
    "model = tf.keras.Sequential()\n",
    "\n",
    "model.add(tf.layers.Dense(hidden_d, activation=tf.sigmoid, input_shape=(input_d,)))\n",
    "\n",
    "model.add(tf.layers.Dense(output_d, activation=tf.sigmoid))\n",
    "\n",
    "model.compile(optimizer=tf.train.GradientDescentOptimizer(.1),\n",
    "              loss=tf.keras.losses.binary_crossentropy,\n",
    "              metrics=['accuracy'])\n"
   ]
  },
  {
   "cell_type": "code",
   "execution_count": 107,
   "metadata": {},
   "outputs": [],
   "source": [
    "def isInCircle(point, center, r):\n",
    "    x, y = point\n",
    "    x_c, y_c = center\n",
    "    return (x - x_c) ** 2 + (y - y_c) ** 2 < r ** 2\n",
    "\n",
    "\n",
    "def generate_samples(batch_size):\n",
    "    X_data = scale * np.random.rand(batch_size, 2)\n",
    "    Y_data = np.array([[int(isInCircle(X_data[i, :], center, R)) for i in range(batch_size)]])\n",
    "    return X_data, Y_data.T\n",
    "\n",
    "\n",
    "def getLineEq(w1, w2, b):\n",
    "    return -x_domain*w1/w2 + b/w2"
   ]
  },
  {
   "cell_type": "code",
   "execution_count": 108,
   "metadata": {},
   "outputs": [
    {
     "name": "stdout",
     "output_type": "stream",
     "text": [
      "Train on 8000 samples, validate on 256 samples\n",
      "Epoch 1/50\n",
      "8000/8000 [==============================] - 0s 46us/sample - loss: 0.6402 - acc: 0.6562 - val_loss: 0.6524 - val_acc: 0.6250\n",
      "Epoch 2/50\n",
      "8000/8000 [==============================] - 0s 30us/sample - loss: 0.6300 - acc: 0.6562 - val_loss: 0.6417 - val_acc: 0.6250\n",
      "Epoch 3/50\n",
      "8000/8000 [==============================] - 0s 28us/sample - loss: 0.6196 - acc: 0.6562 - val_loss: 0.6290 - val_acc: 0.6250\n",
      "Epoch 4/50\n",
      "8000/8000 [==============================] - 0s 28us/sample - loss: 0.6068 - acc: 0.6562 - val_loss: 0.6166 - val_acc: 0.6250\n",
      "Epoch 5/50\n",
      "8000/8000 [==============================] - 0s 28us/sample - loss: 0.5926 - acc: 0.6562 - val_loss: 0.6020 - val_acc: 0.6250\n",
      "Epoch 6/50\n",
      "8000/8000 [==============================] - 0s 28us/sample - loss: 0.5762 - acc: 0.6553 - val_loss: 0.5784 - val_acc: 0.6250\n",
      "Epoch 7/50\n",
      "8000/8000 [==============================] - 0s 27us/sample - loss: 0.5588 - acc: 0.6522 - val_loss: 0.5599 - val_acc: 0.6094\n",
      "Epoch 8/50\n",
      "8000/8000 [==============================] - 0s 25us/sample - loss: 0.5414 - acc: 0.6639 - val_loss: 0.5420 - val_acc: 0.6641\n",
      "Epoch 9/50\n",
      "8000/8000 [==============================] - 0s 27us/sample - loss: 0.5243 - acc: 0.6996 - val_loss: 0.5259 - val_acc: 0.7148\n",
      "Epoch 10/50\n",
      "8000/8000 [==============================] - 0s 27us/sample - loss: 0.5083 - acc: 0.7394 - val_loss: 0.5054 - val_acc: 0.7656\n",
      "Epoch 11/50\n",
      "8000/8000 [==============================] - 0s 27us/sample - loss: 0.4923 - acc: 0.7785 - val_loss: 0.4937 - val_acc: 0.7773\n",
      "Epoch 12/50\n",
      "8000/8000 [==============================] - 0s 27us/sample - loss: 0.4763 - acc: 0.8085 - val_loss: 0.4724 - val_acc: 0.8477\n",
      "Epoch 13/50\n",
      "8000/8000 [==============================] - 0s 26us/sample - loss: 0.4599 - acc: 0.8301 - val_loss: 0.4526 - val_acc: 0.8398\n",
      "Epoch 14/50\n",
      "8000/8000 [==============================] - 0s 25us/sample - loss: 0.4417 - acc: 0.8464 - val_loss: 0.4336 - val_acc: 0.8789\n",
      "Epoch 15/50\n",
      "8000/8000 [==============================] - 0s 26us/sample - loss: 0.4223 - acc: 0.8624 - val_loss: 0.4117 - val_acc: 0.9141\n",
      "Epoch 16/50\n",
      "8000/8000 [==============================] - 0s 26us/sample - loss: 0.4022 - acc: 0.8783 - val_loss: 0.3934 - val_acc: 0.8750\n",
      "Epoch 17/50\n",
      "8000/8000 [==============================] - 0s 28us/sample - loss: 0.3806 - acc: 0.8915 - val_loss: 0.3764 - val_acc: 0.8438\n",
      "Epoch 18/50\n",
      "8000/8000 [==============================] - 0s 24us/sample - loss: 0.3603 - acc: 0.8970 - val_loss: 0.3489 - val_acc: 0.9297\n",
      "Epoch 19/50\n",
      "8000/8000 [==============================] - 0s 26us/sample - loss: 0.3405 - acc: 0.9064 - val_loss: 0.3294 - val_acc: 0.9336\n",
      "Epoch 20/50\n",
      "8000/8000 [==============================] - 0s 26us/sample - loss: 0.3219 - acc: 0.9085 - val_loss: 0.3143 - val_acc: 0.9375\n",
      "Epoch 21/50\n",
      "8000/8000 [==============================] - 0s 27us/sample - loss: 0.3055 - acc: 0.9144 - val_loss: 0.2945 - val_acc: 0.9336\n",
      "Epoch 22/50\n",
      "8000/8000 [==============================] - 0s 27us/sample - loss: 0.2907 - acc: 0.9181 - val_loss: 0.2838 - val_acc: 0.9297\n",
      "Epoch 23/50\n",
      "8000/8000 [==============================] - 0s 25us/sample - loss: 0.2773 - acc: 0.9199 - val_loss: 0.2702 - val_acc: 0.9336\n",
      "Epoch 24/50\n",
      "8000/8000 [==============================] - 0s 25us/sample - loss: 0.2662 - acc: 0.9218 - val_loss: 0.2600 - val_acc: 0.9375\n",
      "Epoch 25/50\n",
      "8000/8000 [==============================] - 0s 26us/sample - loss: 0.2561 - acc: 0.9245 - val_loss: 0.2488 - val_acc: 0.9375\n",
      "Epoch 26/50\n",
      "8000/8000 [==============================] - 0s 27us/sample - loss: 0.2474 - acc: 0.9258 - val_loss: 0.2442 - val_acc: 0.9375\n",
      "Epoch 27/50\n",
      "8000/8000 [==============================] - 0s 27us/sample - loss: 0.2396 - acc: 0.9271 - val_loss: 0.2354 - val_acc: 0.9414\n",
      "Epoch 28/50\n",
      "8000/8000 [==============================] - 0s 25us/sample - loss: 0.2328 - acc: 0.9280 - val_loss: 0.2290 - val_acc: 0.9453\n",
      "Epoch 29/50\n",
      "8000/8000 [==============================] - 0s 25us/sample - loss: 0.2263 - acc: 0.9279 - val_loss: 0.2238 - val_acc: 0.9453\n",
      "Epoch 30/50\n",
      "8000/8000 [==============================] - 0s 25us/sample - loss: 0.2209 - acc: 0.9266 - val_loss: 0.2207 - val_acc: 0.9336\n",
      "Epoch 31/50\n",
      "8000/8000 [==============================] - 0s 26us/sample - loss: 0.2162 - acc: 0.9285 - val_loss: 0.2117 - val_acc: 0.9336\n",
      "Epoch 32/50\n",
      "8000/8000 [==============================] - 0s 26us/sample - loss: 0.2116 - acc: 0.9311 - val_loss: 0.2093 - val_acc: 0.9414\n",
      "Epoch 33/50\n",
      "8000/8000 [==============================] - 0s 25us/sample - loss: 0.2081 - acc: 0.9308 - val_loss: 0.2037 - val_acc: 0.9414\n",
      "Epoch 34/50\n",
      "8000/8000 [==============================] - 0s 26us/sample - loss: 0.2044 - acc: 0.9314 - val_loss: 0.1999 - val_acc: 0.9414\n",
      "Epoch 35/50\n",
      "8000/8000 [==============================] - 0s 27us/sample - loss: 0.2013 - acc: 0.9308 - val_loss: 0.1965 - val_acc: 0.9414\n",
      "Epoch 36/50\n",
      "8000/8000 [==============================] - 0s 26us/sample - loss: 0.1977 - acc: 0.9317 - val_loss: 0.1932 - val_acc: 0.9336\n",
      "Epoch 37/50\n",
      "8000/8000 [==============================] - 0s 25us/sample - loss: 0.1952 - acc: 0.9311 - val_loss: 0.1918 - val_acc: 0.9414\n",
      "Epoch 38/50\n",
      "8000/8000 [==============================] - 0s 25us/sample - loss: 0.1924 - acc: 0.9329 - val_loss: 0.1927 - val_acc: 0.9375\n",
      "Epoch 39/50\n",
      "8000/8000 [==============================] - 0s 25us/sample - loss: 0.1900 - acc: 0.9316 - val_loss: 0.1916 - val_acc: 0.9453\n",
      "Epoch 40/50\n",
      "8000/8000 [==============================] - 0s 26us/sample - loss: 0.1877 - acc: 0.9331 - val_loss: 0.1834 - val_acc: 0.9375\n",
      "Epoch 41/50\n",
      "8000/8000 [==============================] - 0s 27us/sample - loss: 0.1858 - acc: 0.9317 - val_loss: 0.1839 - val_acc: 0.9453\n",
      "Epoch 42/50\n",
      "8000/8000 [==============================] - 0s 25us/sample - loss: 0.1836 - acc: 0.9329 - val_loss: 0.1792 - val_acc: 0.9414\n",
      "Epoch 43/50\n",
      "8000/8000 [==============================] - 0s 26us/sample - loss: 0.1815 - acc: 0.9346 - val_loss: 0.1812 - val_acc: 0.9297\n",
      "Epoch 44/50\n",
      "8000/8000 [==============================] - 0s 26us/sample - loss: 0.1799 - acc: 0.9346 - val_loss: 0.1781 - val_acc: 0.9453\n",
      "Epoch 45/50\n",
      "8000/8000 [==============================] - 0s 25us/sample - loss: 0.1780 - acc: 0.9346 - val_loss: 0.1745 - val_acc: 0.9414\n",
      "Epoch 46/50\n",
      "8000/8000 [==============================] - 0s 26us/sample - loss: 0.1765 - acc: 0.9365 - val_loss: 0.1717 - val_acc: 0.9453\n",
      "Epoch 47/50\n",
      "8000/8000 [==============================] - 0s 25us/sample - loss: 0.1745 - acc: 0.9354 - val_loss: 0.1710 - val_acc: 0.9492\n",
      "Epoch 48/50\n",
      "8000/8000 [==============================] - 0s 27us/sample - loss: 0.1732 - acc: 0.9356 - val_loss: 0.1731 - val_acc: 0.9492\n",
      "Epoch 49/50\n",
      "8000/8000 [==============================] - 0s 25us/sample - loss: 0.1717 - acc: 0.9385 - val_loss: 0.1681 - val_acc: 0.9453\n",
      "Epoch 50/50\n",
      "8000/8000 [==============================] - 0s 26us/sample - loss: 0.1702 - acc: 0.9389 - val_loss: 0.1653 - val_acc: 0.9492\n"
     ]
    },
    {
     "data": {
      "text/plain": [
       "<tensorflow.python.keras.callbacks.History at 0x7f2e62430c88>"
      ]
     },
     "execution_count": 108,
     "metadata": {},
     "output_type": "execute_result"
    }
   ],
   "source": [
    "tX_data, ty_data = generate_samples(8000)\n",
    "eX_data, ey_data = generate_samples(256)\n",
    "\n",
    "model.fit(tX_data, ty_data, batch_size=32, epochs=50, validation_data=(eX_data, ey_data))"
   ]
  },
  {
   "cell_type": "code",
   "execution_count": 109,
   "metadata": {},
   "outputs": [
    {
     "name": "stdout",
     "output_type": "stream",
     "text": [
      "(3, 2)\n",
      "(3,)\n"
     ]
    }
   ],
   "source": [
    "with tf.Session() as sess:\n",
    "    sess.run(tf.global_variables_initializer())\n",
    "    W, b = model.get_layer(index=0).kernel.eval().T, model.get_layer(index=0).bias.eval()\n",
    "    print(W.shape)\n",
    "    print(b.shape)"
   ]
  },
  {
   "cell_type": "code",
   "execution_count": 110,
   "metadata": {},
   "outputs": [
    {
     "data": {
      "image/png": "[encoded data removed]",
      "text/plain": [
       "<Figure size 432x288 with 1 Axes>"
      ]
     },
     "metadata": {
      "needs_background": "light"
     },
     "output_type": "display_data"
    }
   ],
   "source": [
    "%matplotlib inline\n",
    "for i in range(W.shape[0]):\n",
    "    w = W[i]\n",
    "    bs = b[i]\n",
    "    plt.plot(x_domain, getLineEq(*w, b=bs), label=\"model separation\")\n",
    "\n",
    "plt.show()"
   ]
  },
  {
   "cell_type": "code",
   "execution_count": null,
   "metadata": {},
   "outputs": [],
   "source": []
  }
 ],
 "metadata": {
  "kernelspec": {
   "display_name": "Python 3",
   "language": "python",
   "name": "python3"
  },
  "language_info": {
   "codemirror_mode": {
    "name": "ipython",
    "version": 3
   },
   "file_extension": ".py",
   "mimetype": "text/x-python",
   "name": "python",
   "nbconvert_exporter": "python",
   "pygments_lexer": "ipython3",
   "version": "3.7.3"
  }
 },
 "nbformat": 4,
 "nbformat_minor": 2
}
