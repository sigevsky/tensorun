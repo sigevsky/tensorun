{
 "cells": [
  {
   "cell_type": "code",
   "execution_count": 18,
   "metadata": {},
   "outputs": [],
   "source": [
    "import pandas as pd\n",
    "import matplotlib.pyplot as plt\n",
    "# consts and logs init\n",
    "alp = 0.01\n",
    "true_sig = [1., -1., 0., -.075, 4., -3.1]\n",
    "n = len(true_sig)\n",
    "\n",
    "C_log = []"
   ]
  },
  {
   "cell_type": "code",
   "execution_count": 19,
   "metadata": {},
   "outputs": [],
   "source": [
    "def foo_gen(x):\n",
    "    true_res = np.dot(x, true_sig)\n",
    "    return true_res + 2. * np.random.random_sample() - 1.\n",
    "\n",
    "\n",
    "def loss(y_hat1, y):\n",
    "    return 1/len(y) * np.sqrt(np.sum((y_hat1 - y) ** 2))"
   ]
  },
  {
   "cell_type": "code",
   "execution_count": 20,
   "metadata": {},
   "outputs": [
    {
     "data": {
      "text/html": [
       "<div>\n",
       "<style scoped>\n",
       "    .dataframe tbody tr th:only-of-type {\n",
       "        vertical-align: middle;\n",
       "    }\n",
       "\n",
       "    .dataframe tbody tr th {\n",
       "        vertical-align: top;\n",
       "    }\n",
       "\n",
       "    .dataframe thead th {\n",
       "        text-align: right;\n",
       "    }\n",
       "</style>\n",
       "<table border=\"1\" class=\"dataframe\">\n",
       "  <thead>\n",
       "    <tr style=\"text-align: right;\">\n",
       "      <th></th>\n",
       "      <th>0</th>\n",
       "      <th>1</th>\n",
       "      <th>2</th>\n",
       "      <th>3</th>\n",
       "      <th>4</th>\n",
       "      <th>5</th>\n",
       "    </tr>\n",
       "  </thead>\n",
       "  <tbody>\n",
       "    <tr>\n",
       "      <th>0</th>\n",
       "      <td>1.0</td>\n",
       "      <td>-5.069659</td>\n",
       "      <td>1.071728</td>\n",
       "      <td>-5.550442</td>\n",
       "      <td>-1.098673</td>\n",
       "      <td>5.685490</td>\n",
       "    </tr>\n",
       "    <tr>\n",
       "      <th>1</th>\n",
       "      <td>1.0</td>\n",
       "      <td>-5.044225</td>\n",
       "      <td>-7.032026</td>\n",
       "      <td>-7.061947</td>\n",
       "      <td>4.083307</td>\n",
       "      <td>8.994404</td>\n",
       "    </tr>\n",
       "    <tr>\n",
       "      <th>2</th>\n",
       "      <td>1.0</td>\n",
       "      <td>-8.104150</td>\n",
       "      <td>-4.190314</td>\n",
       "      <td>-8.107692</td>\n",
       "      <td>9.659020</td>\n",
       "      <td>-1.317177</td>\n",
       "    </tr>\n",
       "    <tr>\n",
       "      <th>3</th>\n",
       "      <td>1.0</td>\n",
       "      <td>-2.005937</td>\n",
       "      <td>1.171825</td>\n",
       "      <td>3.676898</td>\n",
       "      <td>0.430275</td>\n",
       "      <td>6.854725</td>\n",
       "    </tr>\n",
       "    <tr>\n",
       "      <th>4</th>\n",
       "      <td>1.0</td>\n",
       "      <td>1.656976</td>\n",
       "      <td>-4.559027</td>\n",
       "      <td>-8.336441</td>\n",
       "      <td>7.893892</td>\n",
       "      <td>-0.432526</td>\n",
       "    </tr>\n",
       "  </tbody>\n",
       "</table>\n",
       "</div>"
      ],
      "text/plain": [
       "     0         1         2         3         4         5\n",
       "0  1.0 -5.069659  1.071728 -5.550442 -1.098673  5.685490\n",
       "1  1.0 -5.044225 -7.032026 -7.061947  4.083307  8.994404\n",
       "2  1.0 -8.104150 -4.190314 -8.107692  9.659020 -1.317177\n",
       "3  1.0 -2.005937  1.171825  3.676898  0.430275  6.854725\n",
       "4  1.0  1.656976 -4.559027 -8.336441  7.893892 -0.432526"
      ]
     },
     "execution_count": 20,
     "metadata": {},
     "output_type": "execute_result"
    }
   ],
   "source": [
    "# init\n",
    "import numpy as np\n",
    "sig = np.random.rand(n)\n",
    "\n",
    "x_data = np.random.random((30, 5)) * 20 - 10\n",
    "x_data = np.hstack((np.ones((len(x_data[:, 0]), 1)), x_data))  # adding column with ones to original x data arr\n",
    "y = foo_gen(x_data)\n",
    "\n",
    "pd.DataFrame(x_data).head()"
   ]
  },
  {
   "cell_type": "code",
   "execution_count": 21,
   "metadata": {},
   "outputs": [
    {
     "data": {
      "text/html": [
       "<div>\n",
       "<style scoped>\n",
       "    .dataframe tbody tr th:only-of-type {\n",
       "        vertical-align: middle;\n",
       "    }\n",
       "\n",
       "    .dataframe tbody tr th {\n",
       "        vertical-align: top;\n",
       "    }\n",
       "\n",
       "    .dataframe thead th {\n",
       "        text-align: right;\n",
       "    }\n",
       "</style>\n",
       "<table border=\"1\" class=\"dataframe\">\n",
       "  <thead>\n",
       "    <tr style=\"text-align: right;\">\n",
       "      <th></th>\n",
       "      <th>0</th>\n",
       "    </tr>\n",
       "  </thead>\n",
       "  <tbody>\n",
       "    <tr>\n",
       "      <th>0</th>\n",
       "      <td>-16.081200</td>\n",
       "    </tr>\n",
       "    <tr>\n",
       "      <th>1</th>\n",
       "      <td>-5.522985</td>\n",
       "    </tr>\n",
       "    <tr>\n",
       "      <th>2</th>\n",
       "      <td>51.884120</td>\n",
       "    </tr>\n",
       "    <tr>\n",
       "      <th>3</th>\n",
       "      <td>-17.345808</td>\n",
       "    </tr>\n",
       "    <tr>\n",
       "      <th>4</th>\n",
       "      <td>32.337224</td>\n",
       "    </tr>\n",
       "  </tbody>\n",
       "</table>\n",
       "</div>"
      ],
      "text/plain": [
       "           0\n",
       "0 -16.081200\n",
       "1  -5.522985\n",
       "2  51.884120\n",
       "3 -17.345808\n",
       "4  32.337224"
      ]
     },
     "execution_count": 21,
     "metadata": {},
     "output_type": "execute_result"
    }
   ],
   "source": [
    "pd.DataFrame(y).head()"
   ]
  },
  {
   "cell_type": "code",
   "execution_count": 22,
   "metadata": {},
   "outputs": [],
   "source": [
    "# training loop\n",
    "for i in range(200):\n",
    "    y_hat = np.dot(x_data, sig)\n",
    "    C = loss(y_hat, y)\n",
    "    sig = sig - alp * 1/len(y) * np.dot((y_hat - y), x_data)\n",
    "\n",
    "    C_log.append(C)"
   ]
  },
  {
   "cell_type": "code",
   "execution_count": 25,
   "metadata": {},
   "outputs": [
    {
     "data": {
      "image/png": "[encoded data removed]",
      "text/plain": [
       "<Figure size 432x288 with 1 Axes>"
      ]
     },
     "metadata": {
      "needs_background": "light"
     },
     "output_type": "display_data"
    },
    {
     "name": "stdout",
     "output_type": "stream",
     "text": [
      "0.010060473299091264\n",
      "true sig: \n",
      "        0\n",
      "0  1.000\n",
      "1 -1.000\n",
      "2  0.000\n",
      "3 -0.075\n",
      "4  4.000\n",
      "5 -3.100\n",
      "inferred sig: \n",
      "        0\n",
      "0  1.000\n",
      "1 -1.000\n",
      "2  0.000\n",
      "3 -0.075\n",
      "4  4.000\n",
      "5 -3.100\n"
     ]
    }
   ],
   "source": [
    "plt.plot(C_log)\n",
    "plt.show()\n",
    "print(C)\n",
    "print(f\"true sig: \\n {pd.DataFrame(true_sig)}\")\n",
    "print(f\"inferred sig: \\n {pd.DataFrame(true_sig)}\")"
   ]
  },
  {
   "cell_type": "code",
   "execution_count": null,
   "metadata": {},
   "outputs": [],
   "source": []
  }
 ],
 "metadata": {
  "kernelspec": {
   "display_name": "Python 3",
   "language": "python",
   "name": "python3"
  },
  "language_info": {
   "codemirror_mode": {
    "name": "ipython",
    "version": 3
   },
   "file_extension": ".py",
   "mimetype": "text/x-python",
   "name": "python",
   "nbconvert_exporter": "python",
   "pygments_lexer": "ipython3",
   "version": "3.7.3"
  }
 },
 "nbformat": 4,
 "nbformat_minor": 2
}
