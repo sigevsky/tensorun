{
 "cells": [
  {
   "cell_type": "code",
   "execution_count": 159,
   "metadata": {},
   "outputs": [],
   "source": [
    "%matplotlib inline\n",
    "import sys\n",
    "sys.path.append('..')"
   ]
  },
  {
   "cell_type": "code",
   "execution_count": 160,
   "metadata": {},
   "outputs": [],
   "source": [
    "import numpy as np\n",
    "import matplotlib.pyplot as plt\n",
    "import pandas as pd\n",
    "from logistic import LogisticLayer\n",
    "from losses import CrossEntropyLoss\n",
    "\n",
    "true_W = np.array([[-2., 3.]])\n",
    "true_b = -1.\n",
    "epoch = 1000\n",
    "batch_size = 124\n",
    "alpha = 0.01"
   ]
  },
  {
   "cell_type": "code",
   "execution_count": 161,
   "metadata": {},
   "outputs": [],
   "source": [
    "def sigmoid(x):\n",
    "    return 1. / (1. + np.power(np.e, -x))\n",
    "\n",
    "\n",
    "def generate_batch(batch_size):\n",
    "    X_data = 10 * np.random.rand(true_W.shape[1], batch_size) - 5\n",
    "    y_data = sigmoid(true_W.dot(X_data) + 2. * np.random.random_sample() - 1. + true_b) # add noise\n",
    "    return X_data, y_data"
   ]
  },
  {
   "cell_type": "code",
   "execution_count": 162,
   "metadata": {},
   "outputs": [],
   "source": [
    "def train_model(lr: LogisticLayer, loss):\n",
    "    for i in range(epoch):\n",
    "        X_data, y_data = generate_batch(batch_size)\n",
    "        step_loss = loss(y_data, lr(X_data))\n",
    "        dW, db = lr.backward(loss.backwards())\n",
    "        lr.W -= alpha * dW\n",
    "        lr.b -= alpha * db\n",
    "\n",
    "\n",
    "def evaluate_model(lr: LogisticLayer):\n",
    "    X_data, y_data = generate_batch(100)\n",
    "    y, y_hat = np.round(y_data), np.round(lr(X_data))\n",
    "    acc = 1 - 1 / y.size * np.sum(np.abs(y - y_hat))\n",
    "    return acc, X_data, y_data"
   ]
  },
  {
   "cell_type": "code",
   "execution_count": 163,
   "metadata": {},
   "outputs": [
    {
     "name": "stdout",
     "output_type": "stream",
     "text": [
      "Estimated W: [[-0.84986136  1.3316884 ]]\n",
      "Estimated b: -0.20875105281749162\n",
      "Resulting accuracy: 0.96\n"
     ]
    }
   ],
   "source": [
    "lr = LogisticLayer(2)\n",
    "loss = CrossEntropyLoss()\n",
    "\n",
    "train_model(lr, loss)\n",
    "acc, X_data, y_data = evaluate_model(lr)\n",
    "print(f\"Estimated W: {lr.W}\")\n",
    "print(f\"Estimated b: {lr.b}\")\n",
    "print(f\"Resulting accuracy: {acc}\")"
   ]
  },
  {
   "cell_type": "code",
   "execution_count": 164,
   "metadata": {},
   "outputs": [
    {
     "data": {
      "text/plain": [
       "((39, 3), (61, 3))"
      ]
     },
     "execution_count": 164,
     "metadata": {},
     "output_type": "execute_result"
    }
   ],
   "source": [
    "r = pd.concat([pd.DataFrame(X_data.T, columns=[\"X1\", \"X2\"]), np.round(pd.DataFrame(y_data.T))], axis=1)\n",
    "ones = r[r.iloc[:, 2] == 1.]\n",
    "zeroes = r[r.iloc[:, 2] == 0.]\n",
    "domain = np.linspace(r[\"X1\"].min(), r[\"X1\"].max(), 100)\n",
    "ones.shape, zeroes.shape"
   ]
  },
  {
   "cell_type": "code",
   "execution_count": 165,
   "metadata": {},
   "outputs": [
    {
     "data": {
      "image/png": "[encoded data removed]",
      "text/plain": [
       "<Figure size 432x288 with 1 Axes>"
      ]
     },
     "metadata": {
      "needs_background": "light"
     },
     "output_type": "display_data"
    }
   ],
   "source": [
    "# there is missmatch due to noise in true prediction\n",
    "plt.scatter(ones.iloc[:, 0], ones.iloc[:, 1], label=\"ones\")\n",
    "plt.scatter(zeroes.iloc[:, 0], zeroes.iloc[:, 1], label=\"zeroes\")\n",
    "plt.plot(domain, -domain*true_W[0][0]/true_W[0][1] + true_b/true_W[0][1], label=\"true separation\")\n",
    "plt.plot(domain, -domain*lr.W[0][0]/lr.W[0][1] + true_b/lr.W[0][1], label=\"model separation\")\n",
    "plt.legend(loc=\"best\")\n",
    "plt.show()"
   ]
  },
  {
   "cell_type": "code",
   "execution_count": null,
   "metadata": {},
   "outputs": [],
   "source": []
  }
 ],
 "metadata": {
  "kernelspec": {
   "display_name": "Python 3",
   "language": "python",
   "name": "python3"
  },
  "language_info": {
   "codemirror_mode": {
    "name": "ipython",
    "version": 3
   },
   "file_extension": ".py",
   "mimetype": "text/x-python",
   "name": "python",
   "nbconvert_exporter": "python",
   "pygments_lexer": "ipython3",
   "version": "3.7.3"
  }
 },
 "nbformat": 4,
 "nbformat_minor": 2
}
